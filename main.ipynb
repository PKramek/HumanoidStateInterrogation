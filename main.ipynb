{
 "cells": [
  {
   "cell_type": "code",
   "execution_count": null,
   "metadata": {
    "collapsed": true
   },
   "outputs": [],
   "source": [
    "import logging\n",
    "import os\n",
    "\n",
    "import gym\n",
    "from gym.envs.mujoco.humanoid import HumanoidEnv\n",
    "from src.init_qpos_modifer import InitQposModifierFactory"
   ]
  },
  {
   "cell_type": "code",
   "execution_count": null,
   "outputs": [],
   "source": [
    "FORMAT = '%(asctime)s: %(message)s'\n",
    "logging.basicConfig(format=FORMAT)"
   ],
   "metadata": {
    "collapsed": false,
    "pycharm": {
     "name": "#%%\n"
    }
   }
  },
  {
   "cell_type": "code",
   "execution_count": null,
   "outputs": [],
   "source": [
    "class ParametrizableResetHumanoid(HumanoidEnv):\n",
    "    def __init__(self):\n",
    "        super().__init__()\n",
    "\n",
    "        qpos_modifier = InitQposModifierFactory.get_default()\n",
    "        logging.info(f\"Modifying Humanoid init_qpot using {qpos_modifier}\")\n",
    "        self.init_qpos = qpos_modifier.modify_init_qpos(self.init_qpos)"
   ],
   "metadata": {
    "collapsed": false,
    "pycharm": {
     "name": "#%%\n"
    }
   }
  },
  {
   "cell_type": "code",
   "execution_count": null,
   "outputs": [],
   "source": [
    "new_env_name = 'ParametrizableResetHumanoid-v2'\n",
    "\n",
    "gym.envs.register(\n",
    "    id=new_env_name,\n",
    "    entry_point=ParametrizableResetHumanoid,\n",
    "    max_episode_steps=1000,\n",
    ")\n",
    "logging.info(f\"Registered new environment: {new_env_name}\")\n",
    "\n",
    "name_of_InitQposModifier = \"abdomen_z\"\n",
    "\n",
    "os.environ[\"DEFAULT_InitQposModifier\"] = name_of_InitQposModifier\n",
    "logging.info(f\"Set env variable DEFAULT_InitQposModifier={name_of_InitQposModifier}\")\n",
    "\n",
    "env = gym.make(new_env_name)\n",
    "observation = env.reset()\n",
    "\n",
    "first_frame = env.render()\n",
    "print(f\"Type of first frame: {type(first_frame)}\")\n",
    "\n",
    "for _ in range(1000):\n",
    "    env.render()\n",
    "    action = env.action_space.sample()  # your agent here (this takes random actions)\n",
    "    observation, reward, done, info = env.step(action)\n",
    "\n",
    "    if done:\n",
    "        observation = env.reset()\n",
    "env.close()"
   ],
   "metadata": {
    "collapsed": false,
    "pycharm": {
     "name": "#%%\n"
    }
   }
  }
 ],
 "metadata": {
  "kernelspec": {
   "display_name": "Python 3",
   "language": "python",
   "name": "python3"
  },
  "language_info": {
   "codemirror_mode": {
    "name": "ipython",
    "version": 2
   },
   "file_extension": ".py",
   "mimetype": "text/x-python",
   "name": "python",
   "nbconvert_exporter": "python",
   "pygments_lexer": "ipython2",
   "version": "2.7.6"
  }
 },
 "nbformat": 4,
 "nbformat_minor": 0
}