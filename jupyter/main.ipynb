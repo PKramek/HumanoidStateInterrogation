{
 "cells": [
  {
   "cell_type": "code",
   "execution_count": 1,
   "metadata": {},
   "outputs": [],
   "source": [
    "import logging\n",
    "import os\n",
    "import sys\n",
    "import gym\n",
    "import matplotlib.pyplot as plt\n",
    "from gym.envs.mujoco.humanoid import HumanoidEnv"
   ]
  },
  {
   "cell_type": "code",
   "execution_count": 2,
   "metadata": {},
   "outputs": [],
   "source": [
    "#Relative import trick\n",
    "module_path = os.path.abspath(os.path.join('..'))\n",
    "if module_path not in sys.path:\n",
    "    sys.path.append(module_path)"
   ]
  },
  {
   "cell_type": "code",
   "execution_count": 3,
   "metadata": {},
   "outputs": [],
   "source": [
    "from src.init_qpos_modifer import InitQposModifierFactory, InitQposModifier"
   ]
  },
  {
   "cell_type": "code",
   "execution_count": 4,
   "metadata": {
    "pycharm": {
     "name": "#%%\n"
    }
   },
   "outputs": [],
   "source": [
    "FORMAT = '%(asctime)s: %(message)s'\n",
    "logging.basicConfig(format=FORMAT, stream=sys.stdout, level=logging.INFO)"
   ]
  },
  {
   "cell_type": "code",
   "execution_count": 5,
   "metadata": {
    "pycharm": {
     "name": "#%%\n"
    }
   },
   "outputs": [],
   "source": [
    "class ParametrizableResetHumanoid(HumanoidEnv):\n",
    "    def __init__(self):\n",
    "        super().__init__()\n",
    "\n",
    "        qpos_modifier = InitQposModifierFactory.get_default()\n",
    "        logging.info(f\"Modifying Humanoid init_qpot using {qpos_modifier}\")\n",
    "        self.init_qpos = qpos_modifier.modify_init_qpos(self.init_qpos)"
   ]
  },
  {
   "cell_type": "code",
   "execution_count": 6,
   "metadata": {},
   "outputs": [],
   "source": [
    "class NewInitQposModifier(InitQposModifier):\n",
    "    def modify_init_qpos(self, init_qpos):\n",
    "        index = 7\n",
    "        value = 0.5\n",
    "        \n",
    "        init_qpos[index] = value  # default is 0\n",
    "        logging.info(f\"init_qpos[{index}] = {value}\")\n",
    "        return init_qpos"
   ]
  },
  {
   "cell_type": "code",
   "execution_count": 7,
   "metadata": {},
   "outputs": [],
   "source": [
    "class ForwardTiltQposModifier(InitQposModifier):\n",
    "    def modify_init_qpos(self, init_qpos):\n",
    "        index = 5\n",
    "        value = 0.1 # slight forward tilt\n",
    "        \n",
    "        init_qpos[index] = value  # default is 0\n",
    "        logging.info(f\"init_qpos[{index}] = {value}\")\n",
    "        return init_qpos"
   ]
  },
  {
   "cell_type": "code",
   "execution_count": 8,
   "metadata": {},
   "outputs": [],
   "source": [
    "class XAxisTiltQposModifier(InitQposModifier):\n",
    "    def modify_init_qpos(self, init_qpos):\n",
    "        index = 6\n",
    "        value = 0.1 # slight tilt to the right in relation to x-axis\n",
    "        \n",
    "        init_qpos[index] = value  # default is 0\n",
    "        logging.info(f\"init_qpos[{index}] = {value}\")\n",
    "        return init_qpos"
   ]
  },
  {
   "cell_type": "code",
   "execution_count": 9,
   "metadata": {},
   "outputs": [],
   "source": [
    "class LegsRotationQposModifier(InitQposModifier):\n",
    "    def modify_init_qpos(self, init_qpos):\n",
    "        index = 7\n",
    "        value = 0.1 # slight legs rotation to the right\n",
    "        \n",
    "        init_qpos[index] = value  # default is 0\n",
    "        logging.info(f\"init_qpos[{index}] = {value}\")\n",
    "        return init_qpos"
   ]
  },
  {
   "cell_type": "code",
   "execution_count": 10,
   "metadata": {},
   "outputs": [
    {
     "name": "stdout",
     "output_type": "stream",
     "text": [
      "2022-04-04 09:46:26,607: Registered new environment: ParametrizableResetHumanoid-v2\n"
     ]
    }
   ],
   "source": [
    "new_env_name = 'ParametrizableResetHumanoid-v2'\n",
    "\n",
    "gym.envs.register(\n",
    "    id=new_env_name,\n",
    "    entry_point=ParametrizableResetHumanoid,\n",
    "    max_episode_steps=1000,\n",
    ")\n",
    "logging.info(f\"Registered new environment: {new_env_name}\")"
   ]
  },
  {
   "cell_type": "code",
   "execution_count": 11,
   "metadata": {},
   "outputs": [],
   "source": [
    "name_of_InitQposModifier = \"new_modifier\"\n",
    "InitQposModifierFactory.register(name_of_InitQposModifier, NewInitQposModifier)"
   ]
  },
  {
   "cell_type": "code",
   "execution_count": 12,
   "metadata": {},
   "outputs": [],
   "source": [
    "forward_tilt_InitQposModifier = \"forward_tilt\"\n",
    "InitQposModifierFactory.register(forward_tilt_InitQposModifier, ForwardTiltQposModifier)"
   ]
  },
  {
   "cell_type": "code",
   "execution_count": 13,
   "metadata": {},
   "outputs": [],
   "source": [
    "x_axis_InitQposModifier = \"x_axis_rotation\"\n",
    "InitQposModifierFactory.register(x_axis_InitQposModifier, XAxisTiltQposModifier)"
   ]
  },
  {
   "cell_type": "code",
   "execution_count": 14,
   "metadata": {},
   "outputs": [],
   "source": [
    "legs_roatation_InitQposModifier = \"legs_rotation\"\n",
    "InitQposModifierFactory.register(legs_roatation_InitQposModifier, LegsRotationQposModifier)"
   ]
  },
  {
   "cell_type": "code",
   "execution_count": 15,
   "metadata": {},
   "outputs": [
    {
     "name": "stdout",
     "output_type": "stream",
     "text": [
      "2022-04-04 09:46:26,629: Set env variable DEFAULT_InitQposModifier=forward_tilt\n"
     ]
    }
   ],
   "source": [
    "used_InitQposModifier = forward_tilt_InitQposModifier # Change this variable to change used InitQposModifier\n",
    "\n",
    "os.environ[\"DEFAULT_InitQposModifier\"] = used_InitQposModifier\n",
    "logging.info(f\"Set env variable DEFAULT_InitQposModifier={used_InitQposModifier}\")"
   ]
  },
  {
   "cell_type": "code",
   "execution_count": 16,
   "metadata": {
    "pycharm": {
     "name": "#%%\n"
    },
    "scrolled": true
   },
   "outputs": [
    {
     "name": "stdout",
     "output_type": "stream",
     "text": [
      "2022-04-04 09:46:26,643: Modifying Humanoid init_qpot using <__main__.ForwardTiltQposModifier object at 0x7fd3de3c7550>\n",
      "2022-04-04 09:46:26,643: init_qpos[5] = 0.1\n"
     ]
    },
    {
     "data": {
      "text/plain": [
       "<matplotlib.image.AxesImage at 0x7fd37499b090>"
      ]
     },
     "execution_count": 16,
     "metadata": {},
     "output_type": "execute_result"
    },
    {
     "data": {
      "image/png": "[encoded data removed]",
      "text/plain": [
       "<Figure size 288x288 with 1 Axes>"
      ]
     },
     "metadata": {
      "needs_background": "light"
     },
     "output_type": "display_data"
    }
   ],
   "source": [
    "env = gym.make(new_env_name)\n",
    "observation = env.reset()\n",
    "\n",
    "first_frame = env.render(mode='rgb_array')\n",
    "        \n",
    "env.close()\n",
    "plt.matshow(first_frame)"
   ]
  }
 ],
 "metadata": {
  "kernelspec": {
   "display_name": "Python 3 (ipykernel)",
   "language": "python",
   "name": "python3"
  },
  "language_info": {
   "codemirror_mode": {
    "name": "ipython",
    "version": 3
   },
   "file_extension": ".py",
   "mimetype": "text/x-python",
   "name": "python",
   "nbconvert_exporter": "python",
   "pygments_lexer": "ipython3",
   "version": "3.7.13"
  }
 },
 "nbformat": 4,
 "nbformat_minor": 1
}