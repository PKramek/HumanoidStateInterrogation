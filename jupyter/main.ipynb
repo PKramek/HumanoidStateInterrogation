{
 "cells": [
  {
   "cell_type": "code",
   "execution_count": 1,
   "metadata": {
    "pycharm": {
     "name": "#%%\n"
    }
   },
   "outputs": [],
   "source": [
    "import logging\n",
    "import os\n",
    "import sys\n",
    "import gym\n",
    "import matplotlib.pyplot as plt\n",
    "from gym.envs.mujoco.humanoid import HumanoidEnv\n",
    "import pybullet"
   ]
  },
  {
   "cell_type": "code",
   "execution_count": 2,
   "metadata": {
    "pycharm": {
     "name": "#%%\n"
    }
   },
   "outputs": [],
   "source": [
    "#Relative import trick\n",
    "module_path = os.path.abspath(os.path.join('..'))\n",
    "if module_path not in sys.path:\n",
    "    sys.path.append(module_path)"
   ]
  },
  {
   "cell_type": "code",
   "execution_count": 3,
   "metadata": {
    "pycharm": {
     "name": "#%%\n"
    }
   },
   "outputs": [],
   "source": [
    "from src.init_qpos_modifer import InitQposModifierFactory, InitQposModifier"
   ]
  },
  {
   "cell_type": "code",
   "execution_count": 4,
   "metadata": {
    "pycharm": {
     "name": "#%%\n"
    }
   },
   "outputs": [],
   "source": [
    "def history_of_state_at_index_with_random_actions(env: gym.Env, index: int):\n",
    "    assert isinstance(index, int), \"Index must be an integer\"\n",
    "    assert hasattr(env, 'step') and hasattr(env, 'reset'), \"Env must have reset and step methods\"\n",
    "    \n",
    "    history = []\n",
    "    done = False\n",
    "    \n",
    "    observation = env.reset()\n",
    "    history.append(observation[index])\n",
    "    print(f\"Initial state[{index}]={observation[index]}\")\n",
    "    while not done:\n",
    "        observation, reward, done, info = env.step(env.action_space.sample())\n",
    "        history.append(observation[index])\n",
    "    \n",
    "    \n",
    "    return history"
   ]
  },
  {
   "cell_type": "code",
   "execution_count": 5,
   "metadata": {
    "pycharm": {
     "name": "#%%\n"
    }
   },
   "outputs": [],
   "source": [
    "FORMAT = '%(asctime)s: %(message)s'\n",
    "logging.basicConfig(format=FORMAT, stream=sys.stdout, level=logging.INFO)"
   ]
  },
  {
   "cell_type": "code",
   "execution_count": 6,
   "metadata": {
    "pycharm": {
     "name": "#%%\n"
    }
   },
   "outputs": [],
   "source": [
    "class ParametrizableResetHumanoid(HumanoidEnv):\n",
    "    def __init__(self):\n",
    "        super().__init__()\n",
    "\n",
    "        qpos_modifier = InitQposModifierFactory.get_default()\n",
    "        logging.info(f\"Modifying Humanoid init_qpot using {qpos_modifier}\")\n",
    "        self.init_qpos = qpos_modifier.modify_init_qpos(self.init_qpos)"
   ]
  },
  {
   "cell_type": "code",
   "execution_count": 7,
   "metadata": {
    "pycharm": {
     "name": "#%%\n"
    }
   },
   "outputs": [],
   "source": [
    "class ForwardTiltQposModifier(InitQposModifier):\n",
    "    def modify_init_qpos(self, init_qpos):\n",
    "        index = 5\n",
    "        value = 0.1 # slight forward tilt\n",
    "        \n",
    "        init_qpos[index] = value  # default is 0\n",
    "        logging.info(f\"init_qpos[{index}] = {value}\")\n",
    "        return init_qpos"
   ]
  },
  {
   "cell_type": "code",
   "execution_count": 8,
   "metadata": {
    "pycharm": {
     "name": "#%%\n"
    }
   },
   "outputs": [],
   "source": [
    "class XAxisTiltQposModifier(InitQposModifier):\n",
    "    def modify_init_qpos(self, init_qpos):\n",
    "        index = 6\n",
    "        value = 0.1 # slight tilt to the right in relation to x-axis\n",
    "        \n",
    "        init_qpos[index] = value  # default is 0\n",
    "        logging.info(f\"init_qpos[{index}] = {value}\")\n",
    "        return init_qpos"
   ]
  },
  {
   "cell_type": "code",
   "execution_count": 9,
   "metadata": {
    "pycharm": {
     "name": "#%%\n"
    }
   },
   "outputs": [],
   "source": [
    "class LegsRotationQposModifier(InitQposModifier):\n",
    "    def modify_init_qpos(self, init_qpos):\n",
    "        index = 7\n",
    "        value = 0.1 # slight legs rotation to the right\n",
    "        \n",
    "        init_qpos[index] = value  # default is 0\n",
    "        logging.info(f\"init_qpos[{index}] = {value}\")\n",
    "        return init_qpos"
   ]
  },
  {
   "cell_type": "code",
   "execution_count": 10,
   "metadata": {
    "pycharm": {
     "name": "#%%\n"
    }
   },
   "outputs": [],
   "source": [
    "class HeightQposModifier(InitQposModifier):\n",
    "    def modify_init_qpos(self, init_qpos):\n",
    "        index = 0\n",
    "        value = 1.5 \n",
    "        \n",
    "        init_qpos[index] = value  # default is 1.4\n",
    "        logging.info(f\"init_qpos[{index}] = {value}\")\n",
    "        return init_qpos"
   ]
  },
  {
   "cell_type": "code",
   "execution_count": 11,
   "metadata": {
    "pycharm": {
     "name": "#%%\n"
    }
   },
   "outputs": [
    {
     "name": "stdout",
     "output_type": "stream",
     "text": [
      "2022-04-30 09:10:38,919: Registered new environment: ParametrizableResetHumanoid-v2\n"
     ]
    }
   ],
   "source": [
    "new_env_name = 'ParametrizableResetHumanoid-v2'\n",
    "\n",
    "gym.envs.register(\n",
    "    id=new_env_name,\n",
    "    entry_point=ParametrizableResetHumanoid,\n",
    "    max_episode_steps=1000,\n",
    ")\n",
    "logging.info(f\"Registered new environment: {new_env_name}\")"
   ]
  },
  {
   "cell_type": "code",
   "execution_count": 12,
   "metadata": {
    "pycharm": {
     "name": "#%%\n"
    }
   },
   "outputs": [],
   "source": [
    "forward_tilt_InitQposModifier = \"forward_tilt\"\n",
    "InitQposModifierFactory.register(forward_tilt_InitQposModifier, ForwardTiltQposModifier)"
   ]
  },
  {
   "cell_type": "code",
   "execution_count": 13,
   "metadata": {
    "pycharm": {
     "name": "#%%\n"
    }
   },
   "outputs": [],
   "source": [
    "x_axis_InitQposModifier = \"x_axis_rotation\"\n",
    "InitQposModifierFactory.register(x_axis_InitQposModifier, XAxisTiltQposModifier)"
   ]
  },
  {
   "cell_type": "code",
   "execution_count": 14,
   "metadata": {
    "pycharm": {
     "name": "#%%\n"
    }
   },
   "outputs": [],
   "source": [
    "legs_roatation_InitQposModifier = \"legs_rotation\"\n",
    "InitQposModifierFactory.register(legs_roatation_InitQposModifier, LegsRotationQposModifier)"
   ]
  },
  {
   "cell_type": "code",
   "execution_count": 15,
   "metadata": {
    "pycharm": {
     "name": "#%%\n"
    }
   },
   "outputs": [],
   "source": [
    "height_InitQposModifier = \"height\"\n",
    "InitQposModifierFactory.register(height_InitQposModifier, HeightQposModifier)"
   ]
  },
  {
   "cell_type": "code",
   "execution_count": 16,
   "metadata": {
    "pycharm": {
     "name": "#%%\n"
    }
   },
   "outputs": [],
   "source": [
    "HEIGHT_INDEX = 0\n",
    "TILT_INDEX = 3  # In qpos its under index 5, but observation cuts first two elements\n",
    "X_AXIS_ROTATION_INDEX = 4  # In qpos its under index 6, but observation cuts first two elementsx"
   ]
  },
  {
   "cell_type": "code",
   "execution_count": 17,
   "metadata": {
    "pycharm": {
     "name": "#%%\n"
    }
   },
   "outputs": [
    {
     "name": "stdout",
     "output_type": "stream",
     "text": [
      "2022-04-30 09:10:38,950: Set env variable DEFAULT_InitQposModifier=x_axis_rotation\n",
      "2022-04-30 09:10:38,962: Modifying Humanoid init_qpot using <__main__.XAxisTiltQposModifier object at 0x7f9f543e3ed0>\n",
      "2022-04-30 09:10:38,962: init_qpos[6] = 0.1\n",
      "Initial state[4]=0.08955158208358076\n"
     ]
    },
    {
     "data": {
      "text/plain": [
       "<matplotlib.image.AxesImage at 0x7f9f877a7150>"
      ]
     },
     "execution_count": 17,
     "metadata": {},
     "output_type": "execute_result"
    },
    {
     "data": {
      "image/png": "[encoded data removed]",
      "text/plain": [
       "<Figure size 432x288 with 1 Axes>"
      ]
     },
     "metadata": {
      "needs_background": "light"
     },
     "output_type": "display_data"
    },
    {
     "data": {
      "image/png": "[encoded data removed]",
      "text/plain": [
       "<Figure size 288x288 with 1 Axes>"
      ]
     },
     "metadata": {
      "needs_background": "light"
     },
     "output_type": "display_data"
    }
   ],
   "source": [
    "used_InitQposModifier = x_axis_InitQposModifier # Change this variable to change used InitQposModifier\n",
    "\n",
    "os.environ[\"DEFAULT_InitQposModifier\"] = used_InitQposModifier\n",
    "logging.info(f\"Set env variable DEFAULT_InitQposModifier={used_InitQposModifier}\")\n",
    "\n",
    "test_env = gym.make(new_env_name)\n",
    "\n",
    "plt.plot(history_of_state_at_index_with_random_actions(test_env, X_AXIS_ROTATION_INDEX))\n",
    "\n",
    "test_env.reset()\n",
    "first_frame = test_env.render(mode='rgb_array')\n",
    "plt.matshow(first_frame)"
   ]
  },
  {
   "cell_type": "code",
   "execution_count": 18,
   "metadata": {
    "scrolled": false,
    "pycharm": {
     "name": "#%%\n"
    }
   },
   "outputs": [],
   "source": [
    "import pybullet_envs\n"
   ]
  },
  {
   "cell_type": "code",
   "execution_count": 19,
   "metadata": {
    "scrolled": true,
    "pycharm": {
     "name": "#%%\n"
    }
   },
   "outputs": [
    {
     "name": "stderr",
     "output_type": "stream",
     "text": [
      "/acerac-venv/lib/python3.7/site-packages/gym/logger.py:30: UserWarning: \u001B[33mWARN: Box bound precision lowered by casting to float32\u001B[0m\n",
      "  warnings.warn(colorize('%s: %s'%('WARN', msg % args), 'yellow'))\n"
     ]
    }
   ],
   "source": [
    "pybullet_humanoid_env = gym.make(\"HumanoidBulletEnv-v0\")"
   ]
  },
  {
   "cell_type": "code",
   "execution_count": 20,
   "metadata": {
    "pycharm": {
     "name": "#%%\n"
    }
   },
   "outputs": [],
   "source": [
    "observation = pybullet_humanoid_env.reset()"
   ]
  },
  {
   "cell_type": "code",
   "execution_count": 21,
   "metadata": {
    "scrolled": true,
    "pycharm": {
     "name": "#%%\n"
    }
   },
   "outputs": [
    {
     "name": "stdout",
     "output_type": "stream",
     "text": [
      "44\n"
     ]
    }
   ],
   "source": [
    "print(len(observation))"
   ]
  },
  {
   "cell_type": "code",
   "execution_count": 22,
   "metadata": {
    "scrolled": true,
    "pycharm": {
     "name": "#%%\n"
    }
   },
   "outputs": [
    {
     "name": "stdout",
     "output_type": "stream",
     "text": [
      "Initial state[0]=0.5999999642372131\n"
     ]
    },
    {
     "data": {
      "text/plain": [
       "<matplotlib.image.AxesImage at 0x7f9f8558ad90>"
      ]
     },
     "execution_count": 22,
     "metadata": {},
     "output_type": "execute_result"
    },
    {
     "data": {
      "image/png": "[encoded data removed]",
      "text/plain": [
       "<Figure size 432x288 with 1 Axes>"
      ]
     },
     "metadata": {
      "needs_background": "light"
     },
     "output_type": "display_data"
    },
    {
     "data": {
      "image/png": "[encoded data removed]",
      "text/plain": [
       "<Figure size 384x288 with 1 Axes>"
      ]
     },
     "metadata": {
      "needs_background": "light"
     },
     "output_type": "display_data"
    }
   ],
   "source": [
    "plt.plot(history_of_state_at_index_with_random_actions(pybullet_humanoid_env, 0))\n",
    "\n",
    "pybullet_humanoid_env.reset()\n",
    "first_frame = pybullet_humanoid_env.render(mode='rgb_array')\n",
    "plt.matshow(first_frame)"
   ]
  }
 ],
 "metadata": {
  "kernelspec": {
   "display_name": "Python 3 (ipykernel)",
   "language": "python",
   "name": "python3"
  },
  "language_info": {
   "codemirror_mode": {
    "name": "ipython",
    "version": 3
   },
   "file_extension": ".py",
   "mimetype": "text/x-python",
   "name": "python",
   "nbconvert_exporter": "python",
   "pygments_lexer": "ipython3",
   "version": "3.7.13"
  }
 },
 "nbformat": 4,
 "nbformat_minor": 1
}